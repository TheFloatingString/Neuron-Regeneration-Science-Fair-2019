{
 "cells": [
  {
   "cell_type": "markdown",
   "metadata": {},
   "source": [
    "# Identifying Transcription Factors through Genomics\n",
    "By Laurence Liang"
   ]
  },
  {
   "cell_type": "markdown",
   "metadata": {},
   "source": [
    "Transcription factors are essential to regulate gene and protein expression in cells. In the context of neuron regeneration, identifying TFs responsible for axon growth and understanding how the newtork of TFs work is an important step in promoting axon regeneration in the CNS."
   ]
  },
  {
   "cell_type": "markdown",
   "metadata": {},
   "source": [
    "![Alt Text](http://www.fridayfonts.com/wp-content/uploads/2009/05/neurons.jpg)"
   ]
  },
  {
   "cell_type": "markdown",
   "metadata": {},
   "source": [
    "The goal of this project is to be able to identify TFs that regulate genes responsible for controlling axon regeneration in CNS. \n",
    "\n",
    "The method used is to develop a computer model that can accurately determine the composition of a transcription factor that regulates a target gene, based on the upstream sequence of the target gene. (Example, the gene A1 is a target gene controlled by transcription factor TF1. By analyzing the upstream of A1, the computer model should be able to determine the composition of TF1.)"
   ]
  },
  {
   "cell_type": "markdown",
   "metadata": {},
   "source": [
    "![Alt Text](https://raw.githubusercontent.com/TheFloatingString/Neuron-Regeneration-Science-Fair-2019/master/images/Idea%20structure.jpg)"
   ]
  },
  {
   "cell_type": "markdown",
   "metadata": {},
   "source": [
    "As the promoter can be difficult to determine in advance in eukaryotes, my code extracts a fixed number (2000) of base pairs before the starting index of a genes. The genetic sequence is then encoded in a numerical format that is compatible with the computer model. \n",
    "\n",
    "For the transcription factor, the signature we associate to each transcription factor is the frequency of amino acids, as the TF gene eventually produces a TF protein that will bind to a promoter sequence.\n",
    "\n",
    "By using a Convolutional Neural Network, my goal is to train a computer model that can associate patterns in the genetic sequences of the upstream of a target gene to the amino acid frequency of its respective transcription factor.\n",
    "\n",
    "Identifying TFs responsible for controlling axon regeneration genes can be attempted by using this model."
   ]
  },
  {
   "cell_type": "markdown",
   "metadata": {},
   "source": [
    "## Import modules"
   ]
  },
  {
   "cell_type": "code",
   "execution_count": 30,
   "metadata": {
    "scrolled": true
   },
   "outputs": [],
   "source": [
    "# Import BioPython used for computational biology\n",
    "from Bio import Entrez\n",
    "from Bio.Seq import Seq\n",
    "from Bio.Alphabet import generic_dna\n",
    "from Bio import SeqIO\n",
    "Entrez.email = \"laurencel2001@gmail.com\"\n",
    "\n",
    "# Import modules for data analysis\n",
    "import pandas as pd\n",
    "import numpy as np\n",
    "import json\n",
    "import time\n",
    "import sys\n",
    "import matplotlib.pyplot as plt\n",
    "import random\n",
    "\n",
    "# Scikit-Learn\n",
    "from sklearn.model_selection import train_test_split\n",
    "from sklearn.preprocessing import scale, MinMaxScaler\n",
    "scaler = MinMaxScaler()\n",
    "\n",
    "# Keras\n",
    "from keras.models import Sequential, load_model\n",
    "from keras.layers import Dense\n",
    "from keras.layers import Dropout\n",
    "from keras.layers import Flatten\n",
    "from keras.constraints import maxnorm\n",
    "from keras import optimizers\n",
    "from keras.layers.convolutional import Conv2D\n",
    "from keras.layers.convolutional import MaxPooling2D\n",
    "from keras.utils import np_utils\n",
    "from keras.callbacks import ModelCheckpoint\n",
    "\n",
    "from keras import backend as K\n",
    "K.set_image_dim_ordering('th')"
   ]
  },
  {
   "cell_type": "markdown",
   "metadata": {},
   "source": [
    "## Functions used for processing data"
   ]
  },
  {
   "cell_type": "markdown",
   "metadata": {},
   "source": [
    "For simplicity, a part of the preprocessing code as well as the databses necessary are omitted."
   ]
  },
  {
   "cell_type": "code",
   "execution_count": 4,
   "metadata": {},
   "outputs": [],
   "source": [
    "def numerize_amino_acid_coding(gene):\n",
    "    \"\"\"Outputs a 1D array of amino acid frequency based on input string of amino acid sequence\"\"\"\n",
    "    list_of_amino_acids=['A', 'R', 'N', 'D', 'C', 'Q', 'E', 'G', 'H', 'I', 'L', 'K', 'M', 'F', 'P', 'S', 'T', 'W', 'Y', 'V', 'U', 'X']\n",
    "    gene_vector = np.zeros(len(list_of_amino_acids))\n",
    "    for amino_acid_char in gene:\n",
    "        gene_vector[list_of_amino_acids.index(amino_acid_char)] += 1\n",
    "    return gene_vector"
   ]
  },
  {
   "cell_type": "code",
   "execution_count": 6,
   "metadata": {},
   "outputs": [],
   "source": [
    "def one_hot_dna(sequence):\n",
    "    \"\"\"Outputs a 2D array based on a one-hot encoding of a string of a DNA ATCG sequence\"\"\"\n",
    "    try:\n",
    "        return_list = []\n",
    "        encoding_dict = {'A':0,\n",
    "                     'T':1,\n",
    "                     'C':2,\n",
    "                     'G':3}\n",
    "        for char in sequence:\n",
    "            temp_array = np.zeros(4)\n",
    "            temp_array[encoding_dict[char]] = 1\n",
    "            return_list.append(temp_array)\n",
    "        return return_list\n",
    "    except KeyError:\n",
    "        return '!'"
   ]
  },
  {
   "cell_type": "code",
   "execution_count": 10,
   "metadata": {},
   "outputs": [],
   "source": [
    "def retrieve_promoter(chromosome_bank, chromosome_keys, chromosome_number, start_index, end_index, number_before=2000, number_after=500):\n",
    "    \"\"\"Function returns a sequence of the genome based on the index\"\"\"\n",
    "    retrieve_start = start_index-number_before\n",
    "    retrieve_end = start_index+number_after\n",
    "    selected_sequence = str(chromosome_bank[chromosome_keys[chromosome_number]])[retrieve_start:retrieve_end]\n",
    "    return selected_sequence"
   ]
  },
  {
   "cell_type": "markdown",
   "metadata": {},
   "source": [
    "## Import data"
   ]
  },
  {
   "cell_type": "markdown",
   "metadata": {},
   "source": [
    "Reading data of the \"TF\" ==> \"Target gene\" relationships\n",
    "\n",
    "The data comes from the TRRUST database, a collection of documented TF relationships from PubMed articles"
   ]
  },
  {
   "cell_type": "code",
   "execution_count": 19,
   "metadata": {},
   "outputs": [
    {
     "data": {
      "text/html": [
       "<div>\n",
       "<style scoped>\n",
       "    .dataframe tbody tr th:only-of-type {\n",
       "        vertical-align: middle;\n",
       "    }\n",
       "\n",
       "    .dataframe tbody tr th {\n",
       "        vertical-align: top;\n",
       "    }\n",
       "\n",
       "    .dataframe thead th {\n",
       "        text-align: right;\n",
       "    }\n",
       "</style>\n",
       "<table border=\"1\" class=\"dataframe\">\n",
       "  <thead>\n",
       "    <tr style=\"text-align: right;\">\n",
       "      <th></th>\n",
       "      <th>Transcription factor</th>\n",
       "      <th>Target gene</th>\n",
       "      <th>Relationship</th>\n",
       "      <th>PubMED identifier</th>\n",
       "    </tr>\n",
       "  </thead>\n",
       "  <tbody>\n",
       "    <tr>\n",
       "      <th>0</th>\n",
       "      <td>AATF</td>\n",
       "      <td>BAX</td>\n",
       "      <td>Repression</td>\n",
       "      <td>22909821</td>\n",
       "    </tr>\n",
       "    <tr>\n",
       "      <th>1</th>\n",
       "      <td>AATF</td>\n",
       "      <td>CDKN1A</td>\n",
       "      <td>Unknown</td>\n",
       "      <td>17157788</td>\n",
       "    </tr>\n",
       "    <tr>\n",
       "      <th>2</th>\n",
       "      <td>AATF</td>\n",
       "      <td>KLK3</td>\n",
       "      <td>Unknown</td>\n",
       "      <td>23146908</td>\n",
       "    </tr>\n",
       "    <tr>\n",
       "      <th>3</th>\n",
       "      <td>AATF</td>\n",
       "      <td>MYC</td>\n",
       "      <td>Activation</td>\n",
       "      <td>20549547</td>\n",
       "    </tr>\n",
       "    <tr>\n",
       "      <th>4</th>\n",
       "      <td>AATF</td>\n",
       "      <td>TP53</td>\n",
       "      <td>Unknown</td>\n",
       "      <td>17157788</td>\n",
       "    </tr>\n",
       "  </tbody>\n",
       "</table>\n",
       "</div>"
      ],
      "text/plain": [
       "  Transcription factor Target gene Relationship PubMED identifier\n",
       "0                 AATF         BAX   Repression          22909821\n",
       "1                 AATF      CDKN1A      Unknown          17157788\n",
       "2                 AATF        KLK3      Unknown          23146908\n",
       "3                 AATF         MYC   Activation          20549547\n",
       "4                 AATF        TP53      Unknown          17157788"
      ]
     },
     "execution_count": 19,
     "metadata": {},
     "output_type": "execute_result"
    }
   ],
   "source": [
    "column_names = [\"Transcription factor\", \"Target gene\", \"Relationship\", \"PubMED identifier\"]\n",
    "df = pd.read_csv(\"trrust_rawdata.human.tsv\", delimiter='\\t', header=None)\n",
    "df.columns = column_names\n",
    "df.head(5)"
   ]
  },
  {
   "cell_type": "markdown",
   "metadata": {},
   "source": [
    "Only retain relationships for activation"
   ]
  },
  {
   "cell_type": "code",
   "execution_count": 20,
   "metadata": {},
   "outputs": [
    {
     "data": {
      "text/plain": [
       "(3149, 4)"
      ]
     },
     "execution_count": 20,
     "metadata": {},
     "output_type": "execute_result"
    }
   ],
   "source": [
    "df_activation = df.loc[df['Relationship'] == \"Activation\"]\n",
    "df_activation.shape"
   ]
  },
  {
   "cell_type": "markdown",
   "metadata": {},
   "source": [
    "Reading data of the various positions of genes"
   ]
  },
  {
   "cell_type": "code",
   "execution_count": 7,
   "metadata": {},
   "outputs": [
    {
     "data": {
      "text/html": [
       "<div>\n",
       "<style scoped>\n",
       "    .dataframe tbody tr th:only-of-type {\n",
       "        vertical-align: middle;\n",
       "    }\n",
       "\n",
       "    .dataframe tbody tr th {\n",
       "        vertical-align: top;\n",
       "    }\n",
       "\n",
       "    .dataframe thead th {\n",
       "        text-align: right;\n",
       "    }\n",
       "</style>\n",
       "<table border=\"1\" class=\"dataframe\">\n",
       "  <thead>\n",
       "    <tr style=\"text-align: right;\">\n",
       "      <th></th>\n",
       "      <th>Gene name</th>\n",
       "      <th>Chromosome</th>\n",
       "      <th>Start</th>\n",
       "      <th>End</th>\n",
       "    </tr>\n",
       "  </thead>\n",
       "  <tbody>\n",
       "    <tr>\n",
       "      <th>2609</th>\n",
       "      <td>TJP1</td>\n",
       "      <td>15.0</td>\n",
       "      <td>29699367.0</td>\n",
       "      <td>29968865.0</td>\n",
       "    </tr>\n",
       "    <tr>\n",
       "      <th>1468</th>\n",
       "      <td>LGALS4</td>\n",
       "      <td>19.0</td>\n",
       "      <td>38801671.0</td>\n",
       "      <td>38813364.0</td>\n",
       "    </tr>\n",
       "    <tr>\n",
       "      <th>1273</th>\n",
       "      <td>IGFBP5</td>\n",
       "      <td>2.0</td>\n",
       "      <td>216672105.0</td>\n",
       "      <td>216695525.0</td>\n",
       "    </tr>\n",
       "    <tr>\n",
       "      <th>160</th>\n",
       "      <td>ASF1B</td>\n",
       "      <td>19.0</td>\n",
       "      <td>14119509.0</td>\n",
       "      <td>14136956.0</td>\n",
       "    </tr>\n",
       "    <tr>\n",
       "      <th>1724</th>\n",
       "      <td>NCOA3</td>\n",
       "      <td>20.0</td>\n",
       "      <td>47501902.0</td>\n",
       "      <td>47656877.0</td>\n",
       "    </tr>\n",
       "    <tr>\n",
       "      <th>1677</th>\n",
       "      <td>MUC1</td>\n",
       "      <td>1.0</td>\n",
       "      <td>155185824.0</td>\n",
       "      <td>155192916.0</td>\n",
       "    </tr>\n",
       "    <tr>\n",
       "      <th>965</th>\n",
       "      <td>GAD1</td>\n",
       "      <td>2.0</td>\n",
       "      <td>170813213.0</td>\n",
       "      <td>170861151.0</td>\n",
       "    </tr>\n",
       "    <tr>\n",
       "      <th>591</th>\n",
       "      <td>CYP11B1</td>\n",
       "      <td>8.0</td>\n",
       "      <td>142872356.0</td>\n",
       "      <td>142879846.0</td>\n",
       "    </tr>\n",
       "    <tr>\n",
       "      <th>1802</th>\n",
       "      <td>NPAT</td>\n",
       "      <td>!</td>\n",
       "      <td>!</td>\n",
       "      <td>!</td>\n",
       "    </tr>\n",
       "    <tr>\n",
       "      <th>1260</th>\n",
       "      <td>IFNL1</td>\n",
       "      <td>!</td>\n",
       "      <td>!</td>\n",
       "      <td>!</td>\n",
       "    </tr>\n",
       "  </tbody>\n",
       "</table>\n",
       "</div>"
      ],
      "text/plain": [
       "     Gene name Chromosome        Start          End\n",
       "2609      TJP1       15.0   29699367.0   29968865.0\n",
       "1468    LGALS4       19.0   38801671.0   38813364.0\n",
       "1273    IGFBP5        2.0  216672105.0  216695525.0\n",
       "160      ASF1B       19.0   14119509.0   14136956.0\n",
       "1724     NCOA3       20.0   47501902.0   47656877.0\n",
       "1677      MUC1        1.0  155185824.0  155192916.0\n",
       "965       GAD1        2.0  170813213.0  170861151.0\n",
       "591    CYP11B1        8.0  142872356.0  142879846.0\n",
       "1802      NPAT          !            !            !\n",
       "1260     IFNL1          !            !            !"
      ]
     },
     "execution_count": 7,
     "metadata": {},
     "output_type": "execute_result"
    }
   ],
   "source": [
    "column_names = [\"Gene name\", \"Chromosome\", \"Start\", \"End\"]\n",
    "df_locations = pd.read_csv(\"gene_locations.csv\", delimiter=',', header=None)\n",
    "df_locations.columns = column_names\n",
    "df_locations.sample(10)"
   ]
  },
  {
   "cell_type": "markdown",
   "metadata": {},
   "source": [
    "Reading data from the human genome in FASTA file format"
   ]
  },
  {
   "cell_type": "code",
   "execution_count": 16,
   "metadata": {
    "scrolled": true
   },
   "outputs": [],
   "source": [
    "dict_of_sequences = {}\n",
    "for seq_record in SeqIO.parse(\"datasets/genomic.fna\", \"fasta\"):\n",
    "    print(seq_record.id)\n",
    "    dict_of_sequences[seq_record.id] = seq_record.seq\n"
   ]
  },
  {
   "cell_type": "code",
   "execution_count": 9,
   "metadata": {},
   "outputs": [],
   "source": [
    "for key in list(dict_of_sequences.keys()):\n",
    "    if key[0:2] != \"NC\":\n",
    "        dict_of_sequences.pop(key, None)"
   ]
  },
  {
   "cell_type": "code",
   "execution_count": 13,
   "metadata": {},
   "outputs": [],
   "source": [
    "chromosome_keys = dict(enumerate(list(dict_of_sequences.keys())))"
   ]
  },
  {
   "cell_type": "code",
   "execution_count": 14,
   "metadata": {},
   "outputs": [],
   "source": [
    "promoter_sequences = {}\n",
    "for index, row in df_locations.iterrows():\n",
    "    if row[\"Chromosome\"] != '!' and row[\"Start\"] != \"!\" and row[\"End\"] != '!':\n",
    "        sequence = retrieve_promoter(dict_of_sequences, chromosome_keys, int(float(row[\"Chromosome\"]))-1, int(float(row[\"Start\"]))-1000, int(float(row[\"End\"]))+1000)\n",
    "        promoter_sequences[row[\"Gene name\"]] = sequence"
   ]
  },
  {
   "cell_type": "code",
   "execution_count": 15,
   "metadata": {},
   "outputs": [],
   "source": [
    "promoter_sequences_one_hot = {}\n",
    "for gene_name in list(promoter_sequences.keys()):\n",
    "    promoter_sequences_one_hot[gene_name] = one_hot_dna(promoter_sequences[gene_name].upper())"
   ]
  },
  {
   "cell_type": "markdown",
   "metadata": {},
   "source": [
    "Load data for amino acids"
   ]
  },
  {
   "cell_type": "code",
   "execution_count": 5,
   "metadata": {},
   "outputs": [],
   "source": [
    "amino_acid_bank = np.loadtxt(\"amino_acid_db.csv\", delimiter=\"|\", dtype=object)\n",
    "amino_acid_dict = {}\n",
    "for row in amino_acid_bank:\n",
    "    amino_acid_dict[row[0]] = row[1].split(']')[-1].replace(\"\\n\", '')"
   ]
  },
  {
   "cell_type": "code",
   "execution_count": 17,
   "metadata": {},
   "outputs": [
    {
     "data": {
      "text/plain": [
       "2197"
      ]
     },
     "execution_count": 17,
     "metadata": {},
     "output_type": "execute_result"
    }
   ],
   "source": [
    "promoter_sequences_one_hot = {k: v for k, v in promoter_sequences_one_hot.items() if v != '!'}\n",
    "len(promoter_sequences_one_hot.keys())"
   ]
  },
  {
   "cell_type": "markdown",
   "metadata": {},
   "source": [
    "## Process data for model"
   ]
  },
  {
   "cell_type": "markdown",
   "metadata": {},
   "source": [
    "Convert all lists to NumPy format"
   ]
  },
  {
   "cell_type": "code",
   "execution_count": 253,
   "metadata": {},
   "outputs": [],
   "source": [
    "X_data = [] # Target gene\n",
    "y_data = [] # TF\n",
    "\n",
    "for index, row in df_activation.iterrows():\n",
    "    print(row['Target gene'])\n",
    "    try:\n",
    "        if promoter_sequences_one_hot[row['Target gene']] != '!' and amino_acid_dict[row[\"Transcription factor\"]] != '!':\n",
    "            \n",
    "            X_data.append(np.array(promoter_sequences_one_hot[row['Target gene']])) \n",
    "            y_data.append(numerize_amino_acid_coding(amino_acid_dict[row[\"Transcription factor\"]]))\n",
    "    except KeyError:\n",
    "        pass"
   ]
  },
  {
   "cell_type": "code",
   "execution_count": 57,
   "metadata": {},
   "outputs": [
    {
     "name": "stdout",
     "output_type": "stream",
     "text": [
      "(2451, 2500, 4)\n",
      "(2451, 22)\n"
     ]
    }
   ],
   "source": [
    "X_data = np.array(X_data)\n",
    "print(X_data.shape)\n",
    "\n",
    "y_data = np.array(y_data)\n",
    "print(y_data.shape)\n"
   ]
  },
  {
   "cell_type": "markdown",
   "metadata": {},
   "source": [
    "Scale data"
   ]
  },
  {
   "cell_type": "code",
   "execution_count": 58,
   "metadata": {},
   "outputs": [],
   "source": [
    "new_y_data = []\n",
    "for row in y_data:\n",
    "    temp = []\n",
    "    for item in row:\n",
    "        temp.append(item/100)\n",
    "    new_y_data.append(temp)"
   ]
  },
  {
   "cell_type": "markdown",
   "metadata": {},
   "source": [
    "Split data for training and testing, and reshape data to fit the model"
   ]
  },
  {
   "cell_type": "code",
   "execution_count": 59,
   "metadata": {},
   "outputs": [],
   "source": [
    "X_train, X_test, y_train, y_test = train_test_split(X_data, new_y_data, test_size=0.1)\n",
    "X_train = np.array(X_train).reshape(len(X_train),1,2500,4)\n",
    "X_test = np.array(X_test).reshape(len(X_test),1,2500,4)"
   ]
  },
  {
   "cell_type": "markdown",
   "metadata": {},
   "source": [
    "## Demonstration of the model\n",
    "\n",
    "![Alt Text](https://cdn-images-1.medium.com/max/1600/1*NQQiyYqJJj4PSYAeWvxutg.png)\n",
    "\n",
    "Essentially, the Convolutional Neural Network tries to make mathematical links between features that appear at the input and the values for the output. The training was done in another program, there were 2094 training samples and 111 validation samples. The best validation loss (mean absolute error) was 0.1246."
   ]
  },
  {
   "cell_type": "markdown",
   "metadata": {},
   "source": [
    "Load Convolutional Neural Network"
   ]
  },
  {
   "cell_type": "code",
   "execution_count": 29,
   "metadata": {},
   "outputs": [],
   "source": [
    "model = Sequential()\n",
    "model = load_model(\"weights-improvement-25-0.13.hdf5\")"
   ]
  },
  {
   "cell_type": "markdown",
   "metadata": {},
   "source": [
    "Structure of the Convolutional Neural Network"
   ]
  },
  {
   "cell_type": "code",
   "execution_count": 47,
   "metadata": {},
   "outputs": [
    {
     "name": "stdout",
     "output_type": "stream",
     "text": [
      "_________________________________________________________________\n",
      "Layer (type)                 Output Shape              Param #   \n",
      "=================================================================\n",
      "conv2d_52 (Conv2D)           (None, 10, 2451, 1)       2010      \n",
      "_________________________________________________________________\n",
      "max_pooling2d_43 (MaxPooling (None, 10, 245, 1)        0         \n",
      "_________________________________________________________________\n",
      "flatten_49 (Flatten)         (None, 2450)              0         \n",
      "_________________________________________________________________\n",
      "dense_153 (Dense)            (None, 50)                122550    \n",
      "_________________________________________________________________\n",
      "dense_154 (Dense)            (None, 20)                1020      \n",
      "_________________________________________________________________\n",
      "dense_155 (Dense)            (None, 22)                462       \n",
      "=================================================================\n",
      "Total params: 126,042\n",
      "Trainable params: 126,042\n",
      "Non-trainable params: 0\n",
      "_________________________________________________________________\n"
     ]
    }
   ],
   "source": [
    "model.summary()"
   ]
  },
  {
   "cell_type": "code",
   "execution_count": 46,
   "metadata": {},
   "outputs": [],
   "source": [
    "layer_dict = dict([(layer.name, layer) for layer in model.layers])"
   ]
  },
  {
   "cell_type": "code",
   "execution_count": 99,
   "metadata": {},
   "outputs": [],
   "source": [
    "weights = []\n",
    "for layer in model.layers:\n",
    "    weights.append(layer.get_weights())"
   ]
  },
  {
   "cell_type": "markdown",
   "metadata": {},
   "source": [
    "## Visualization of the filters that the Convolutional Neural Network uses to detect features within the gene sequence"
   ]
  },
  {
   "cell_type": "markdown",
   "metadata": {},
   "source": [
    "![Alt Text](https://cdn-images-1.medium.com/max/1200/1*ZCjPUFrB6eHPRi4eyP6aaA.gif)\n",
    "\n",
    "The convolutional neural network is able to recognize features by sliding a filter across the gene sequence in a process known as convolution. The filter itself is learned continuously during the training of the neural network."
   ]
  },
  {
   "cell_type": "code",
   "execution_count": 277,
   "metadata": {},
   "outputs": [
    {
     "data": {
      "image/png": "[encoded data removed]",
      "text/plain": [
       "<matplotlib.figure.Figure at 0x1c40f4b5908>"
      ]
     },
     "metadata": {},
     "output_type": "display_data"
    }
   ],
   "source": [
    "%matplotlib inline\n",
    "\n",
    "width = 20\n",
    "height = 1\n",
    "plt.figure(figsize=(width, height))\n",
    "\n",
    "bp_list = ['A', 'T', 'C', 'G']\n",
    "for row in range(10):\n",
    "    plt.subplot(5,2,row+1)\n",
    "    plt.title(f\"Filter {row+1}\")\n",
    "    \n",
    "    plt.yticks(range(4), bp_list)\n",
    "    plt.xlabel(\"Index of base pair\")\n",
    "\n",
    "    plt.imshow(weights[0][0].reshape(10,50,4)[row].T, cmap=\"bwr\", aspect='auto', vmin=-0.4, vmax=0.4)\n",
    "    plt.colorbar()\n",
    "\n",
    "plt.subplots_adjust(left=None, bottom=0, right=None, top=9, wspace=0, hspace=1)\n",
    "plt.show()"
   ]
  },
  {
   "cell_type": "markdown",
   "metadata": {},
   "source": [
    "We can observe that the filters tend to have a high sensitivity towards certain base pairs with A and C. Also, there seems to be an alternating movement between A and C base pairs, which could be somehow revealing when searching for the amino acid composition of a transcription factor based on the genetic sequence of the upstream of a gene."
   ]
  },
  {
   "cell_type": "markdown",
   "metadata": {},
   "source": [
    "## Analysis of the accuracy of the model"
   ]
  },
  {
   "cell_type": "markdown",
   "metadata": {},
   "source": [
    "Compute baseline error. The number (multiplied by 100) is the number of amino acid counts that the prediction was off (per type of AA).\n",
    "\n",
    "The baseline model takes the average occurence for each amino acid, then compares the average frequency with the real values."
   ]
  },
  {
   "cell_type": "code",
   "execution_count": 35,
   "metadata": {},
   "outputs": [
    {
     "name": "stdout",
     "output_type": "stream",
     "text": [
      "Total error with baseline model 3.2441823649943826\n"
     ]
    }
   ],
   "source": [
    "answer_list = []\n",
    "y_test = np.array(y_test)\n",
    "for feature in range(len(y_test[0])):\n",
    "    answer_list.append((sum(y_test[:,feature])/len(y_test)))\n",
    "        \n",
    "total_error = 0.0\n",
    "for pr, value in zip(pred_positive, y_test):\n",
    "    temp_sum = 0.0\n",
    "    for p, v in zip(answer_list, value):\n",
    "        temp_sum += abs(p-v)\n",
    "    total_error += temp_sum\n",
    "error = total_error/len(pred_positive)\n",
    "print(\"Total error with baseline model\",error)"
   ]
  },
  {
   "cell_type": "code",
   "execution_count": 34,
   "metadata": {},
   "outputs": [
    {
     "name": "stdout",
     "output_type": "stream",
     "text": [
      "Random sample: 158\n",
      "Real \t Prediction\n",
      "0.37\t0.3400000035762787\n",
      "0.16\t0.23000000417232513\n",
      "0.12\t0.14000000059604645\n",
      "0.12\t0.20999999344348907\n",
      "0.04\t0.07999999821186066\n",
      "0.37\t0.23000000417232513\n",
      "0.24\t0.25\n",
      "0.16\t0.28999999165534973\n",
      "0.03\t0.10999999940395355\n",
      "0.18\t0.15000000596046448\n",
      "0.21\t0.38999998569488525\n",
      "0.15\t0.20000000298023224\n",
      "0.07\t0.10999999940395355\n",
      "0.01\t0.12999999523162842\n",
      "0.19\t0.3799999952316284\n",
      "0.3\t0.4099999964237213\n",
      "0.34\t0.23999999463558197\n",
      "0.0\t0.029999999329447746\n",
      "0.07\t0.10000000149011612\n",
      "0.28\t0.2199999988079071\n",
      "0.0\t0.0\n",
      "0.0\t0.0\n",
      "\n",
      "Average value of amino acid 0.20430316\n",
      "Stadard deviation per amino acid 0.13543938\n",
      "Average error per gene 2.849071214474978\n"
     ]
    }
   ],
   "source": [
    "pred = model.predict([X_test])\n",
    "pred_positive = [[0.0 if val<= 0.0 else val for val in subl] for subl in pred ]\n",
    "pred_positive = [[val for val in subl] for subl in pred ]\n",
    "\n",
    "\n",
    "var=random.randrange(0,len(X_test))\n",
    "print(f\"Random sample: {var}\")\n",
    "\n",
    "print(f\"Real \\t Prediction\")\n",
    "for real, prediction in zip(y_test[var], pred_positive[var]): \n",
    "    print(f\"{real}\\t{round(prediction,2)}\")\n",
    "\n",
    "print()\n",
    "print(\"Average value of amino acid\", np.array(pred_positive).mean())\n",
    "print(\"Stadard deviation per amino acid\", np.array(pred_positive).std())\n",
    "\n",
    "total_error = 0.0\n",
    "for pr, value in zip(pred_positive, y_test):\n",
    "    temp_sum = 0.0\n",
    "    for p, v in zip(pr, value):\n",
    "        temp_sum += abs(p-v)\n",
    "    total_error += temp_sum\n",
    "error = total_error/len(pred_positive)\n",
    "print(\"Average error per gene\", error)"
   ]
  },
  {
   "cell_type": "markdown",
   "metadata": {},
   "source": [
    "(3.24-2.84)/2.84 = 14%. Our computer model is 14% more accurate than the baseline model"
   ]
  },
  {
   "cell_type": "markdown",
   "metadata": {},
   "source": [
    "### Visualization of the predicted results versus the real results"
   ]
  },
  {
   "cell_type": "markdown",
   "metadata": {},
   "source": [
    "On the x-axis, we have vertical strips of the predicted amino acid frequency of each TF gene's amino acid composition. On the y-axis, we have the types of amino acids. Do note that the predictions seem to vary per case, meaning that the model doesn't blindly output a single generic answer to any input."
   ]
  },
  {
   "cell_type": "code",
   "execution_count": 43,
   "metadata": {},
   "outputs": [
    {
     "data": {
      "image/png": "[encoded data removed]",
      "text/plain": [
       "<matplotlib.figure.Figure at 0x1c41a033128>"
      ]
     },
     "metadata": {},
     "output_type": "display_data"
    }
   ],
   "source": [
    "list_of_amino_acids=['A', 'R', 'N', 'D', 'C', 'Q', 'E', 'G', 'H', 'I', 'L', 'K', 'M', 'F', 'P', 'S', 'T', 'W', 'Y', 'V', 'U', 'X']\n",
    "\n",
    "plt.imshow(np.array(pred_positive).T, aspect='auto')\n",
    "plt.colorbar()\n",
    "plt.clim(0,0.5)\n",
    "\n",
    "plt.title(\"Prediction of the Frequency of Amino Acids in Target Genes\")\n",
    "\n",
    "plt.xlabel(\"Test sample\")\n",
    "\n",
    "plt.yticks(range(22), list_of_amino_acids)\n",
    "plt.ylabel(\"Amino acid\")\n",
    "\n",
    "plt.show()"
   ]
  },
  {
   "cell_type": "markdown",
   "metadata": {},
   "source": [
    "Real results."
   ]
  },
  {
   "cell_type": "code",
   "execution_count": 45,
   "metadata": {},
   "outputs": [
    {
     "data": {
      "image/png": "[encoded data removed]",
      "text/plain": [
       "<matplotlib.figure.Figure at 0x1c41a213a20>"
      ]
     },
     "metadata": {},
     "output_type": "display_data"
    }
   ],
   "source": [
    "plt.imshow(np.array(y_test).T, aspect='auto')\n",
    "plt.colorbar()\n",
    "plt.clim(0,0.5)\n",
    "\n",
    "plt.title(\"Actual Frequency of Amino Acids in Target Genes\")\n",
    "\n",
    "plt.xlabel(\"Test sample\")\n",
    "\n",
    "plt.yticks(range(22), list_of_amino_acids)\n",
    "plt.ylabel(\"Amino acid\")\n",
    "\n",
    "plt.show()"
   ]
  },
  {
   "cell_type": "code",
   "execution_count": 189,
   "metadata": {},
   "outputs": [
    {
     "data": {
      "image/png": "[encoded data removed]",
      "text/plain": [
       "<matplotlib.figure.Figure at 0x1c40f99de80>"
      ]
     },
     "metadata": {},
     "output_type": "display_data"
    }
   ],
   "source": [
    "plt.imshow(np.subtract(np.array(y_test).T, np.array(pred_positive).T), aspect='auto', interpolation=\"nearest\", cmap='Reds')\n",
    "plt.colorbar()\n",
    "plt.clim(0,0.7)\n",
    "\n",
    "plt.title(\"Difference between Predicted and Real Frequency of AA\")\n",
    "\n",
    "plt.yticks(range(22), list_of_amino_acids)\n",
    "plt.xlabel(\"Test Sample\")\n",
    "plt.ylabel(\"Amino Acid\")\n",
    "\n",
    "plt.show()"
   ]
  },
  {
   "cell_type": "markdown",
   "metadata": {},
   "source": [
    "## Summary\n",
    "\n",
    "* A Convolutional Neural Network can predict the amino acid composition of a transcription factor of a target gene based on the target gene's upstream gene sequence. The accuracy is better than the accuracy of a baseline model\n",
    "* The CNN can identify features in the upstream data using filters. In this case, it seems that the A and C nucleotides seem to play an important role in the CNN's computation of the amino acid composition of the transcription factor.\n",
    "\n",
    "## Potential Causes of Error\n",
    "\n",
    "* The gene indexes were obtained by scraping Wikipedia pages for the respective genes. There might be a slight difference in the values when compared to the PubMed values.\n",
    "* If the promoter were to lie more than 2 000 base pairs upstream, the model is unable to take it into account.\n",
    "* The binding of a TF to a promoter based on (amino acid composition => DNA sequence) might not be completely direct."
   ]
  },
  {
   "cell_type": "markdown",
   "metadata": {},
   "source": [
    "## Next steps\n",
    "\n",
    "* Implement localization convolutional neural network for the same purpose\n",
    "* Identify TFs that seem related to axon regeneration genes according to the model\n",
    "* Experimentally test several predicted TFs and note the results."
   ]
  }
 ],
 "metadata": {
  "kernelspec": {
   "display_name": "Python 3",
   "language": "python",
   "name": "python3"
  },
  "language_info": {
   "codemirror_mode": {
    "name": "ipython",
    "version": 3
   },
   "file_extension": ".py",
   "mimetype": "text/x-python",
   "name": "python",
   "nbconvert_exporter": "python",
   "pygments_lexer": "ipython3",
   "version": "3.6.4"
  }
 },
 "nbformat": 4,
 "nbformat_minor": 2
}
